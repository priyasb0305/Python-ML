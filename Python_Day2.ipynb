{
  "nbformat": 4,
  "nbformat_minor": 0,
  "metadata": {
    "colab": {
      "provenance": []
    },
    "kernelspec": {
      "name": "python3",
      "display_name": "Python 3"
    },
    "language_info": {
      "name": "python"
    }
  },
  "cells": [
    {
      "cell_type": "markdown",
      "source": [
        "# **Dictionries**"
      ],
      "metadata": {
        "id": "siqyEc71aLd7"
      }
    },
    {
      "cell_type": "markdown",
      "source": [
        "- Dictionary creation"
      ],
      "metadata": {
        "id": "LraEiq9_aPZx"
      }
    },
    {
      "cell_type": "code",
      "execution_count": null,
      "metadata": {
        "id": "oVADq-A7Z_v4"
      },
      "outputs": [],
      "source": [
        "person={\n",
        "    \"name\":\"Alice Johnson\",\n",
        "    \"age\":23,\n",
        "  \"profession\":\"Software Engineer\",\n",
        "    \"Salary\":75000,\n",
        "    \"skills\":[\"Python\",\"Javascript\",\"SQL\"]\n",
        "\n",
        "}"
      ]
    },
    {
      "cell_type": "markdown",
      "source": [
        "- Accessing Values"
      ],
      "metadata": {
        "id": "XHskH31FaW_Z"
      }
    },
    {
      "cell_type": "code",
      "source": [
        "print(f\"Name:{person['name']}\")\n",
        "print(f\"Age:{person.get('age','Unknown')}\")"
      ],
      "metadata": {
        "id": "bbrH0yguaUcL"
      },
      "execution_count": null,
      "outputs": []
    },
    {
      "cell_type": "markdown",
      "source": [
        "- Dictionary Methods"
      ],
      "metadata": {
        "id": "czMTgaTRabvZ"
      }
    },
    {
      "cell_type": "code",
      "source": [
        "print(f\"Keys:{list(person.keys())}\")\n",
        "print(f\"Values:{list(person.values())}\")\n",
        "print(f\"Items:{list(person.items())}\")"
      ],
      "metadata": {
        "id": "z-2OGrkRaZ2C"
      },
      "execution_count": null,
      "outputs": []
    },
    {
      "cell_type": "markdown",
      "source": [
        "- Adding/Updating"
      ],
      "metadata": {
        "id": "Oj3GZkI6agGC"
      }
    },
    {
      "cell_type": "code",
      "source": [
        "person[\"location\"]=\"New York\"\n",
        "person[\"Salary\"]=80000"
      ],
      "metadata": {
        "id": "D-pFiiCaaeVy"
      },
      "execution_count": null,
      "outputs": []
    },
    {
      "cell_type": "markdown",
      "source": [
        "**Practical use case:Inventory management**"
      ],
      "metadata": {
        "id": "RSUY8E8oalLh"
      }
    },
    {
      "cell_type": "code",
      "source": [
        "inventory={\n",
        "    \"laptops\":{\n",
        "        \"quantity\":50,\n",
        "        \"price\":999.99\n",
        "    },\n",
        "    \"phones\":{\n",
        "        \"quantity\":100,\n",
        "        \"price\":599.99\n",
        "    },\n",
        "    \"tablets\":{\n",
        "        \"quantity\":30,\n",
        "        \"price\":399.99\n",
        "    }\n",
        "}"
      ],
      "metadata": {
        "id": "wuAQgoz4ajai"
      },
      "execution_count": null,
      "outputs": []
    },
    {
      "cell_type": "markdown",
      "source": [
        "- Nested access"
      ],
      "metadata": {
        "id": "ppLaLg6LarKh"
      }
    },
    {
      "cell_type": "code",
      "source": [
        "print(f\"Laptop price:${inventory['laptops']['price']}\")"
      ],
      "metadata": {
        "id": "HRnIE6SaapYq"
      },
      "execution_count": null,
      "outputs": []
    },
    {
      "cell_type": "markdown",
      "source": [
        "# **Sets**"
      ],
      "metadata": {
        "id": "luZLScORaw-Z"
      }
    },
    {
      "cell_type": "markdown",
      "source": [
        "- Sets contain unique elements"
      ],
      "metadata": {
        "id": "ON5DiqLGa2ND"
      }
    },
    {
      "cell_type": "code",
      "source": [
        "colors={\"red\",\"green\",\"blue\",\"red\"}\n",
        "print(colors)"
      ],
      "metadata": {
        "id": "k4p2iAeYau2a"
      },
      "execution_count": null,
      "outputs": []
    },
    {
      "cell_type": "markdown",
      "source": [
        "- Set operations"
      ],
      "metadata": {
        "id": "3FvM68l1a7LJ"
      }
    },
    {
      "cell_type": "code",
      "source": [
        "team1_skills={\"Python\",\"Javascript\",\"SQL\",\"React\"}\n",
        "team2_skills={\"Javascript\",\"SQL\",\"Java\",\"Spring\"}"
      ],
      "metadata": {
        "id": "yCRGi3HAa5pi"
      },
      "execution_count": null,
      "outputs": []
    },
    {
      "cell_type": "markdown",
      "source": [
        "- Common operations"
      ],
      "metadata": {
        "id": "dN9Bqjaga_b5"
      }
    },
    {
      "cell_type": "code",
      "source": [
        "print(f\"Common Skills:{team1_skills.intersection(team2_skills)}\")\n",
        "print(f\"All skills:{team1_skills.union(team2_skills)}\")\n",
        "print(f\"Team1 only:{team1_skills.difference(team2_skills)}\")"
      ],
      "metadata": {
        "colab": {
          "base_uri": "https://localhost:8080/",
          "height": 176
        },
        "id": "LVk0dQ5Ga9ti",
        "outputId": "d00c2da8-6c55-48c5-d6d3-c7af37b378e6"
      },
      "execution_count": null,
      "outputs": [
        {
          "output_type": "error",
          "ename": "NameError",
          "evalue": "name 'team1_skills' is not defined",
          "traceback": [
            "\u001b[0;31m---------------------------------------------------------------------------\u001b[0m",
            "\u001b[0;31mNameError\u001b[0m                                 Traceback (most recent call last)",
            "\u001b[0;32m/tmp/ipython-input-544495395.py\u001b[0m in \u001b[0;36m<cell line: 0>\u001b[0;34m()\u001b[0m\n\u001b[0;32m----> 1\u001b[0;31m \u001b[0mprint\u001b[0m\u001b[0;34m(\u001b[0m\u001b[0;34mf\"Common Skills:{team1_skills.intersection(team2_skills)}\"\u001b[0m\u001b[0;34m)\u001b[0m\u001b[0;34m\u001b[0m\u001b[0;34m\u001b[0m\u001b[0m\n\u001b[0m\u001b[1;32m      2\u001b[0m \u001b[0mprint\u001b[0m\u001b[0;34m(\u001b[0m\u001b[0;34mf\"All skills:{team1_skills.union(team2_skills)}\"\u001b[0m\u001b[0;34m)\u001b[0m\u001b[0;34m\u001b[0m\u001b[0;34m\u001b[0m\u001b[0m\n\u001b[1;32m      3\u001b[0m \u001b[0mprint\u001b[0m\u001b[0;34m(\u001b[0m\u001b[0;34mf\"Team1 only:{team1_skills.difference(team2_skills)}\"\u001b[0m\u001b[0;34m)\u001b[0m\u001b[0;34m\u001b[0m\u001b[0;34m\u001b[0m\u001b[0m\n",
            "\u001b[0;31mNameError\u001b[0m: name 'team1_skills' is not defined"
          ]
        }
      ]
    },
    {
      "cell_type": "markdown",
      "source": [
        "- Adding to sets"
      ],
      "metadata": {
        "id": "did0mJ9-bKmZ"
      }
    },
    {
      "cell_type": "code",
      "source": [
        "colors.add(\"yellow\")\n",
        "colors.update([\"purple\",\"orange\"])\n",
        "print(\"Updated colors: \",colors)"
      ],
      "metadata": {
        "id": "KAJBpW2FbIra"
      },
      "execution_count": null,
      "outputs": []
    },
    {
      "cell_type": "markdown",
      "source": [
        "# **Control Flow**"
      ],
      "metadata": {
        "id": "JeypWDcMbPdh"
      }
    },
    {
      "cell_type": "markdown",
      "source": [
        "Conditional Statements\n",
        "\n",
        " - Basic if-else"
      ],
      "metadata": {
        "id": "EnsMT_w-bUlj"
      }
    },
    {
      "cell_type": "code",
      "source": [
        "def get_grade_letter(score):\n",
        "  if score>=90:\n",
        "    return \"A\"\n",
        "  elif score>=80:\n",
        "    return \"B\"\n",
        "  elif score>=70:\n",
        "    return \"C\"\n",
        "  elif score>=60:\n",
        "    return \"D\"\n",
        "  else:\n",
        "    return \"F\""
      ],
      "metadata": {
        "id": "UdvsnAEwbNnK"
      },
      "execution_count": null,
      "outputs": []
    },
    {
      "cell_type": "markdown",
      "source": [
        "- Test the function"
      ],
      "metadata": {
        "id": "u0NYaxDkbb6C"
      }
    },
    {
      "cell_type": "code",
      "source": [
        "test_scores=[95,83,72,65,58]\n",
        "for score in test_scores:\n",
        "  grade=get_grade_letter(score)\n",
        "  print(f\"Score:{score},Grade:{grade}\")"
      ],
      "metadata": {
        "colab": {
          "base_uri": "https://localhost:8080/"
        },
        "id": "efAEG11GbYrh",
        "outputId": "05940e8b-7309-4909-f4b1-c8ec999e7890"
      },
      "execution_count": null,
      "outputs": [
        {
          "output_type": "stream",
          "name": "stdout",
          "text": [
            "Score:95,Grade:A\n",
            "Score:83,Grade:B\n",
            "Score:72,Grade:C\n",
            "Score:65,Grade:D\n",
            "Score:58,Grade:F\n"
          ]
        }
      ]
    },
    {
      "cell_type": "markdown",
      "source": [
        "- Nested conditions"
      ],
      "metadata": {
        "id": "MbRNCKUvbhFZ"
      }
    },
    {
      "cell_type": "code",
      "source": [
        "def get_shipping_cost(weight,distance):\n",
        "  base_cost=5.0\n",
        "\n",
        "  if weight<=1:\n",
        "    weight_cost=2.0\n",
        "  elif weight<=5:\n",
        "    weight_cost=5.0\n",
        "  else:\n",
        "    weight_cost=10.0\n",
        "\n",
        "\n",
        "  if distance <=100:\n",
        "    distance_cost=1.0\n",
        "  elif distance <=500:\n",
        "    distance_cost=3.0\n",
        "  else:\n",
        "    distance_cost=7.0\n",
        "\n",
        "  return base_cost+weight_cost+distance_cost\n"
      ],
      "metadata": {
        "id": "ZavtcHyrbfix"
      },
      "execution_count": null,
      "outputs": []
    },
    {
      "cell_type": "markdown",
      "source": [
        "- Test shipping costs"
      ],
      "metadata": {
        "id": "cun_xyLNbmR5"
      }
    },
    {
      "cell_type": "code",
      "source": [
        "print(f\"Light, close:${get_shipping_cost(0.5,50)}\")\n",
        "print(f\"Heavy, far:${get_shipping_cost(10,800)}\")"
      ],
      "metadata": {
        "colab": {
          "base_uri": "https://localhost:8080/"
        },
        "id": "CvNC3p3Bbkkp",
        "outputId": "c871fcfc-dcaf-42ed-f0ff-e568efb6d068"
      },
      "execution_count": null,
      "outputs": [
        {
          "output_type": "stream",
          "name": "stdout",
          "text": [
            "Light, close:$8.0\n",
            "Heavy, far:$22.0\n"
          ]
        }
      ]
    },
    {
      "cell_type": "markdown",
      "source": [
        "# **Loops-For Loop**\n",
        "\n",
        "Basic for loop"
      ],
      "metadata": {
        "id": "eyrHQB5KbqxJ"
      }
    },
    {
      "cell_type": "code",
      "source": [
        "fruits=[\"apple\",\"banana\",\"orange\",\"grape\"]\n",
        "for fruit in fruits:\n",
        "  print(\"I like\",fruit)"
      ],
      "metadata": {
        "colab": {
          "base_uri": "https://localhost:8080/"
        },
        "id": "gYxUxGnkbpAC",
        "outputId": "6ba66269-1df0-45f2-d5d5-ca57011c2a19"
      },
      "execution_count": null,
      "outputs": [
        {
          "output_type": "stream",
          "name": "stdout",
          "text": [
            "I like apple\n",
            "I like banana\n",
            "I like orange\n",
            "I like grape\n"
          ]
        }
      ]
    },
    {
      "cell_type": "markdown",
      "source": [
        "- loop with enumerate(get index)"
      ],
      "metadata": {
        "id": "fsHStVxRbwrB"
      }
    },
    {
      "cell_type": "code",
      "source": [
        "for i, fruit in enumerate(fruits):\n",
        "  print(i+1,\"I like\" ,fruit)"
      ],
      "metadata": {
        "colab": {
          "base_uri": "https://localhost:8080/"
        },
        "id": "1SHHjRiKbuKZ",
        "outputId": "46bb7805-5a51-49e6-f49e-fa652115cd97"
      },
      "execution_count": null,
      "outputs": [
        {
          "output_type": "stream",
          "name": "stdout",
          "text": [
            "1 I like apple\n",
            "2 I like banana\n",
            "3 I like orange\n",
            "4 I like grape\n"
          ]
        }
      ]
    },
    {
      "cell_type": "markdown",
      "source": [
        "- loop with range"
      ],
      "metadata": {
        "id": "dujPcemTb1r5"
      }
    },
    {
      "cell_type": "code",
      "source": [
        "for day in range(1,9):\n",
        "  print(\"Day\",day,\"of the week\")"
      ],
      "metadata": {
        "colab": {
          "base_uri": "https://localhost:8080/"
        },
        "id": "cYZwDYoGb0Ha",
        "outputId": "0646972a-4fb0-4769-c771-4eeaf22ecebb"
      },
      "execution_count": null,
      "outputs": [
        {
          "output_type": "stream",
          "name": "stdout",
          "text": [
            "Day 1 of the week\n",
            "Day 2 of the week\n",
            "Day 3 of the week\n",
            "Day 4 of the week\n",
            "Day 5 of the week\n",
            "Day 6 of the week\n",
            "Day 7 of the week\n",
            "Day 8 of the week\n"
          ]
        }
      ]
    },
    {
      "cell_type": "markdown",
      "source": [
        "- Nested loops-creating a multiplication table"
      ],
      "metadata": {
        "id": "J6JkEICgb7mh"
      }
    },
    {
      "cell_type": "code",
      "source": [
        "print(\"Multiplication table\")\n",
        "for i in range(1,6):\n",
        "  for j in range(1,6):\n",
        "    product=i*j\n",
        "    print(i,\"x\",j,\"=\",product)"
      ],
      "metadata": {
        "colab": {
          "base_uri": "https://localhost:8080/"
        },
        "id": "RXNnoEyNb53x",
        "outputId": "e6929ff2-fa23-44bc-ad28-0fcb303110aa"
      },
      "execution_count": null,
      "outputs": [
        {
          "output_type": "stream",
          "name": "stdout",
          "text": [
            "Multiplication table\n",
            "1 x 1 = 1\n",
            "1 x 2 = 2\n",
            "1 x 3 = 3\n",
            "1 x 4 = 4\n",
            "1 x 5 = 5\n",
            "2 x 1 = 2\n",
            "2 x 2 = 4\n",
            "2 x 3 = 6\n",
            "2 x 4 = 8\n",
            "2 x 5 = 10\n",
            "3 x 1 = 3\n",
            "3 x 2 = 6\n",
            "3 x 3 = 9\n",
            "3 x 4 = 12\n",
            "3 x 5 = 15\n",
            "4 x 1 = 4\n",
            "4 x 2 = 8\n",
            "4 x 3 = 12\n",
            "4 x 4 = 16\n",
            "4 x 5 = 20\n",
            "5 x 1 = 5\n",
            "5 x 2 = 10\n",
            "5 x 3 = 15\n",
            "5 x 4 = 20\n",
            "5 x 5 = 25\n"
          ]
        }
      ]
    },
    {
      "cell_type": "markdown",
      "source": [
        "- Processing data with loops"
      ],
      "metadata": {
        "id": "rglU3beocFih"
      }
    },
    {
      "cell_type": "code",
      "source": [
        "sales_data=[\n",
        "    {\"product\":\"Laptop\",\"price\":999,\"quantity\":5},\n",
        "    {\"product\":\"Smartphone\",\"price\":599,\"quantity\":10},\n",
        "    {\"product\":\"Tablet\",\"price\":399,\"quantity\":8}\n",
        "]\n",
        "\n",
        "total_revenue=0\n",
        "\n",
        "for item in sales_data:\n",
        "  revenue=item[\"price\"]*item[\"quantity\"]\n",
        "  total_revenue+=revenue\n",
        "  print(f\"Revenue from {item['product']}:{revenue}\")\n",
        "\n",
        "print(f\"Total Revenue:{total_revenue}\")"
      ],
      "metadata": {
        "colab": {
          "base_uri": "https://localhost:8080/"
        },
        "id": "3GVCb90Ub-TK",
        "outputId": "5f79c5d3-66a3-4398-cced-a18b3b130c19"
      },
      "execution_count": null,
      "outputs": [
        {
          "output_type": "stream",
          "name": "stdout",
          "text": [
            "Revenue from Laptop:4995\n",
            "Revenue from Smartphone:5990\n",
            "Revenue from Tablet:3192\n",
            "Total Revenue:14177\n"
          ]
        }
      ]
    },
    {
      "cell_type": "markdown",
      "source": [
        "# **Loops-While loop**"
      ],
      "metadata": {
        "id": "2Ajec8vjcKtp"
      }
    },
    {
      "cell_type": "markdown",
      "source": [
        "While loop for user input simulation\n"
      ],
      "metadata": {
        "id": "S5TG7V0jcS1C"
      }
    },
    {
      "cell_type": "code",
      "source": [
        "def simple_guessing_game():\n",
        "  target=4\n",
        "  guess=0\n",
        "  attempts=0\n",
        "  print(\"Guess the number between 1 and 10\")\n",
        "\n",
        "  while guess!=target:\n",
        "\n",
        "    #simulate user input\n",
        "    import random\n",
        "    guess=random.randint(1,10)\n",
        "    attempts+=1\n",
        "\n",
        "    if guess <target:\n",
        "      print(f\"Guess {attempts}:{guess}-Too low!\")\n",
        "    elif guess>target:\n",
        "      print(f\"Guess {attempts}:{guess}-Too high!\")\n",
        "    else:\n",
        "      print(f\"Guess {attempts}:{guess}-Correct\")\n",
        "\n",
        "    #safety check\n",
        "    if attempts>10:\n",
        "      print(\"Max attempts reached!\")\n",
        "      break\n",
        "\n",
        "  print(f\"Game finished in {attempts} attempts\")\n",
        "\n",
        "simple_guessing_game()"
      ],
      "metadata": {
        "colab": {
          "base_uri": "https://localhost:8080/"
        },
        "id": "KdxbON1DcII5",
        "outputId": "5a1b9cb4-0bb9-4b7d-93fa-7bed6d8c0bf6"
      },
      "execution_count": null,
      "outputs": [
        {
          "output_type": "stream",
          "name": "stdout",
          "text": [
            "Guess the number between 1 and 10\n",
            "Guess 1:1-Too low!\n",
            "Guess 2:5-Too high!\n",
            "Guess 3:9-Too high!\n",
            "Guess 4:5-Too high!\n",
            "Guess 5:7-Too high!\n",
            "Guess 6:7-Too high!\n",
            "Guess 7:5-Too high!\n",
            "Guess 8:1-Too low!\n",
            "Guess 9:3-Too low!\n",
            "Guess 10:1-Too low!\n",
            "Guess 11:3-Too low!\n",
            "Max attempts reached!\n",
            "Game finished in 11 attempts\n"
          ]
        }
      ]
    },
    {
      "cell_type": "markdown",
      "source": [
        "- While loop for processing"
      ],
      "metadata": {
        "id": "eCXlRWoAcXQg"
      }
    },
    {
      "cell_type": "code",
      "source": [],
      "metadata": {
        "id": "UrTPdWy4cWj6"
      },
      "execution_count": null,
      "outputs": []
    },
    {
      "cell_type": "markdown",
      "source": [
        "# **Function Basics**\n",
        "\n",
        "Basic function definition\n",
        "\n",
        "\n"
      ],
      "metadata": {
        "id": "9qke7dHjccNB"
      }
    },
    {
      "cell_type": "code",
      "source": [
        "def greet(name):\n",
        "  return f\"Hello, {name}\""
      ],
      "metadata": {
        "id": "_0oKMvYHcfqJ"
      },
      "execution_count": null,
      "outputs": []
    },
    {
      "cell_type": "markdown",
      "source": [
        "- Function call"
      ],
      "metadata": {
        "id": "BLmFoHhucjXg"
      }
    },
    {
      "cell_type": "code",
      "source": [
        "message=greet(\"Python programmer\")\n",
        "print(message)"
      ],
      "metadata": {
        "colab": {
          "base_uri": "https://localhost:8080/"
        },
        "id": "rbh5NR-LchaB",
        "outputId": "7a2ccabd-86a9-4571-99e5-d9778a8dcce3"
      },
      "execution_count": null,
      "outputs": [
        {
          "output_type": "stream",
          "name": "stdout",
          "text": [
            "Hello, Python programmer\n"
          ]
        }
      ]
    },
    {
      "cell_type": "markdown",
      "source": [
        "- Function with multiple parameter"
      ],
      "metadata": {
        "id": "W1fDVsC1cnoB"
      }
    },
    {
      "cell_type": "code",
      "source": [
        "def calculate_area(length,width):\n",
        "  area=length*width\n",
        "  return area"
      ],
      "metadata": {
        "id": "8hQOdCoXcmB5"
      },
      "execution_count": null,
      "outputs": []
    },
    {
      "cell_type": "markdown",
      "source": [
        "- Test the function"
      ],
      "metadata": {
        "id": "j30yTsH3cvOC"
      }
    },
    {
      "cell_type": "code",
      "source": [
        "room_area=calculate_area(12,10)\n",
        "print(f\"Room area:{room_area} square feet\")"
      ],
      "metadata": {
        "colab": {
          "base_uri": "https://localhost:8080/"
        },
        "id": "5KnH_jpwctnq",
        "outputId": "264e23e6-6a9e-490a-c6d8-8eeb3200cdec"
      },
      "execution_count": null,
      "outputs": [
        {
          "output_type": "stream",
          "name": "stdout",
          "text": [
            "Room area:120 square feet\n"
          ]
        }
      ]
    },
    {
      "cell_type": "markdown",
      "source": [
        "- Function with default parameter"
      ],
      "metadata": {
        "id": "2O9SlNv1c0RR"
      }
    },
    {
      "cell_type": "code",
      "source": [
        "def create_user_profile(name,age=18,location=\"unknown\",active=True):\n",
        "  return {\n",
        "      \"name\":name,\n",
        "      \"age\":age,\n",
        "      \"location\":location,\n",
        "      \"active\":active\n",
        "  }"
      ],
      "metadata": {
        "id": "Uwzr1F4Lcx0p"
      },
      "execution_count": null,
      "outputs": []
    },
    {
      "cell_type": "markdown",
      "source": [
        "# **Different ways to call**"
      ],
      "metadata": {
        "id": "ZsMu_8bKc_tp"
      }
    },
    {
      "cell_type": "code",
      "source": [
        "profile1=create_user_profile(\"Alice\")\n",
        "profile2=create_user_profile(\"Bob\",25)\n",
        "profile3=create_user_profile(\"Eve\",location=\"New york\",age=30)\n",
        "print(f\"Profile 1:{profile1}\")\n",
        "print(f\"Profile 2:{profile2}\")\n",
        "print(f\"Profile 3:{profile3}\")"
      ],
      "metadata": {
        "colab": {
          "base_uri": "https://localhost:8080/"
        },
        "id": "jv48RY6yc4Ph",
        "outputId": "a39df1b7-4e97-490d-d148-ff2c439d7624"
      },
      "execution_count": null,
      "outputs": [
        {
          "output_type": "stream",
          "name": "stdout",
          "text": [
            "Profile 1:{'name': 'Alice', 'age': 18, 'location': 'unknown', 'active': True}\n",
            "Profile 2:{'name': 'Bob', 'age': 25, 'location': 'unknown', 'active': True}\n",
            "Profile 3:{'name': 'Eve', 'age': 30, 'location': 'New york', 'active': True}\n"
          ]
        }
      ]
    },
    {
      "cell_type": "markdown",
      "source": [
        "Advanced Function Concepts\n",
        "\n",
        "  - Function returning multiple values"
      ],
      "metadata": {
        "id": "bZ0jU9DUdGbR"
      }
    },
    {
      "cell_type": "code",
      "source": [
        "def analyze_text(text):\n",
        " words=text.split()\n",
        " word_count=len(words)\n",
        " char_count=len(text)\n",
        " char_count_no_spaces=len(text.replace(\" \",\"\"))\n",
        "\n",
        " return word_count,char_count,char_count_no_spaces"
      ],
      "metadata": {
        "id": "ye8N0RYZdFnS"
      },
      "execution_count": null,
      "outputs": []
    },
    {
      "cell_type": "markdown",
      "source": [
        "- Test with sample text"
      ],
      "metadata": {
        "id": "oWYv4J0WdQz5"
      }
    },
    {
      "cell_type": "code",
      "source": [
        "from genericpath import samefile\n",
        "sample_text=\"Python is a powerfull programming language\"\n",
        "\n",
        "words,chars,char_no_spaces=analyze_text(sample_text)\n",
        "\n",
        "print(f\"Text:'{sample_text}'\")\n",
        "print(f\"Word count:'{words}'\")\n",
        "print(f\"Character count:'{chars}'\")\n",
        "print(f\"Character count without spaces:'{char_no_spaces}'\")"
      ],
      "metadata": {
        "colab": {
          "base_uri": "https://localhost:8080/"
        },
        "id": "30fsIPNhdPCh",
        "outputId": "de157fb5-fe46-4249-a7d0-919cc3c6c03c"
      },
      "execution_count": null,
      "outputs": [
        {
          "output_type": "stream",
          "name": "stdout",
          "text": [
            "Text:'Python is a powerfull programming language'\n",
            "Word count:'6'\n",
            "Character count:'42'\n",
            "Character count without spaces:'37'\n"
          ]
        }
      ]
    },
    {
      "cell_type": "markdown",
      "source": [
        "**Variable length argument**"
      ],
      "metadata": {
        "id": "y83sxItxdT-Z"
      }
    },
    {
      "cell_type": "code",
      "source": [
        "def calculate_average(*numbers):\n",
        "  if not numbers:\n",
        "    return 0\n",
        "\n",
        "  return sum(numbers)/len(numbers)"
      ],
      "metadata": {
        "id": "tPJGLO_udTQJ"
      },
      "execution_count": null,
      "outputs": []
    },
    {
      "cell_type": "markdown",
      "source": [
        "- Test with different numbers of arguments"
      ],
      "metadata": {
        "id": "jAAQ8JIqdbFB"
      }
    },
    {
      "cell_type": "code",
      "source": [
        "avg1=calculate_average(10,20,30,40)\n",
        "avg2=calculate_average(1,2,3,5)\n",
        "avg3=calculate_average(100)\n",
        "\n",
        "print(f\"Average of 10,20,30,40 : {avg1}\")\n",
        "print(f\"Average of 1,2,3,5 : {avg2}\")\n",
        "print(f\"Average of 100 : {avg3}\")"
      ],
      "metadata": {
        "colab": {
          "base_uri": "https://localhost:8080/"
        },
        "id": "d3ov6lxtdZCp",
        "outputId": "6261c425-68a6-4c29-983d-a13dbca480bc"
      },
      "execution_count": null,
      "outputs": [
        {
          "output_type": "stream",
          "name": "stdout",
          "text": [
            "Average of 10,20,30,40 : 25.0\n",
            "Average of 1,2,3,5 : 2.75\n",
            "Average of 100 : 100.0\n"
          ]
        }
      ]
    },
    {
      "cell_type": "markdown",
      "source": [
        "**Keyword arguments**"
      ],
      "metadata": {
        "id": "EBDfPfqpdgGp"
      }
    },
    {
      "cell_type": "code",
      "source": [
        "def create_report(**data):\n",
        "  print(\"=== REPORT ===\")\n",
        "\n",
        "  for key,value in data.items():\n",
        "    print(f\"{key.replace('_','').title()}:{value}\")\n",
        "\n",
        "  print(\"============\")\n",
        "\n",
        "create_report(\n",
        "    title=\"Monthly sales report\",\n",
        "    date=\"2024-01-01\",\n",
        "    total_sales=15000,\n",
        "    new_customers=25,\n",
        "    returning_customers=150\n",
        ")\n"
      ],
      "metadata": {
        "colab": {
          "base_uri": "https://localhost:8080/"
        },
        "id": "IN-ZsW56dd25",
        "outputId": "7aaaa0f4-8ad4-48ec-f285-5fa36eb60a48"
      },
      "execution_count": null,
      "outputs": [
        {
          "output_type": "stream",
          "name": "stdout",
          "text": [
            "=== REPORT ===\n",
            "Title:Monthly sales report\n",
            "Date:2024-01-01\n",
            "Totalsales:15000\n",
            "Newcustomers:25\n",
            "Returningcustomers:150\n",
            "============\n"
          ]
        }
      ]
    },
    {
      "cell_type": "markdown",
      "source": [
        "# **Lambda Functions**\n",
        "\n",
        "Lambda functions(anonymous functions)\n",
        "\n",
        "- Regular Functions"
      ],
      "metadata": {
        "id": "u7F1nfJsdmhp"
      }
    },
    {
      "cell_type": "code",
      "source": [
        "def squares(x):\n",
        "  return x**2"
      ],
      "metadata": {
        "id": "xR9jifwLdjyA"
      },
      "execution_count": null,
      "outputs": []
    },
    {
      "cell_type": "markdown",
      "source": [
        "- Lambda equivalent"
      ],
      "metadata": {
        "id": "ARbb0F5MdtXp"
      }
    },
    {
      "cell_type": "code",
      "source": [
        "square_lambda=lambda x:x**2\n",
        "print(f\"Regular function:{squares(5)}\")\n",
        "print(f\"Lambda function:{square_lambda(5)}\")"
      ],
      "metadata": {
        "colab": {
          "base_uri": "https://localhost:8080/"
        },
        "id": "05AwYsIadrYx",
        "outputId": "638b13cf-2f1d-42ce-a3b9-a4891bd6f0ba"
      },
      "execution_count": null,
      "outputs": [
        {
          "output_type": "stream",
          "name": "stdout",
          "text": [
            "Regular function:25\n",
            "Lambda function:25\n"
          ]
        }
      ]
    },
    {
      "cell_type": "markdown",
      "source": [
        "- Lambda with multiple arguments"
      ],
      "metadata": {
        "id": "L8Wr3LGhdy5J"
      }
    },
    {
      "cell_type": "code",
      "source": [
        "multiply=lambda x,y:x*y\n",
        "print(f\"Multiply:{multiply(3,4)}\")"
      ],
      "metadata": {
        "colab": {
          "base_uri": "https://localhost:8080/"
        },
        "id": "CU6zocnidxFB",
        "outputId": "4ceec578-d222-4a87-a416-0cc24d9585ca"
      },
      "execution_count": null,
      "outputs": [
        {
          "output_type": "stream",
          "name": "stdout",
          "text": [
            "Multiply:12\n"
          ]
        }
      ]
    },
    {
      "cell_type": "markdown",
      "source": [
        "- Lambda with built-in-functions"
      ],
      "metadata": {
        "id": "-612n2VCeDwy"
      }
    },
    {
      "cell_type": "code",
      "source": [
        "numbers=[1,2,3,4,5]\n",
        "squared=list(map(lambda x:x**2,numbers))\n",
        "print(f\"Squared numbers:{squared}\")"
      ],
      "metadata": {
        "colab": {
          "base_uri": "https://localhost:8080/"
        },
        "id": "VP_aOfVTeEtZ",
        "outputId": "17aa70ff-2117-462d-d63b-fc2b6ee64cc7"
      },
      "execution_count": null,
      "outputs": [
        {
          "output_type": "stream",
          "name": "stdout",
          "text": [
            "Squared numbers:[1, 4, 9, 16, 25]\n"
          ]
        }
      ]
    },
    {
      "cell_type": "markdown",
      "source": [
        "- Filtering with lambda"
      ],
      "metadata": {
        "id": "iVxnMWqSeJix"
      }
    },
    {
      "cell_type": "code",
      "source": [
        "ages=[16,21,35,12,45,18,67]\n",
        "adults=list(filter(lambda x:x>=18,ages))\n",
        "print(f\"Adult ages:{adults}\")"
      ],
      "metadata": {
        "colab": {
          "base_uri": "https://localhost:8080/"
        },
        "id": "-Tmybl8XeHTC",
        "outputId": "c04aa2f2-b372-45f6-a122-e065ffa17428"
      },
      "execution_count": null,
      "outputs": [
        {
          "output_type": "stream",
          "name": "stdout",
          "text": [
            "Adult ages:[21, 35, 45, 18, 67]\n"
          ]
        }
      ]
    },
    {
      "cell_type": "markdown",
      "source": [
        "- Sorting with lambda"
      ],
      "metadata": {
        "id": "hK6T_B6peOMR"
      }
    },
    {
      "cell_type": "code",
      "source": [
        "people=[\n",
        "    {\"name\":\"Alice\",\"age\":30},\n",
        "    {\"name\":\"Bob\",\"age\":25},\n",
        "    {\"name\":\"Eve\",\"age\":35}\n",
        "]\n",
        "sorted_people=sorted(people,key=lambda person:person[\"age\"])\n",
        "print(\"Sorted people by age:\")\n",
        "for person in sorted_people:\n",
        "  print(f\"{person['name']}:{person['age']}\")"
      ],
      "metadata": {
        "colab": {
          "base_uri": "https://localhost:8080/"
        },
        "id": "RYbVDSRneMAz",
        "outputId": "7c0590dc-b76a-4097-91e6-419873816897"
      },
      "execution_count": null,
      "outputs": [
        {
          "output_type": "stream",
          "name": "stdout",
          "text": [
            "Sorted people by age:\n",
            "Bob:25\n",
            "Alice:30\n",
            "Eve:35\n"
          ]
        }
      ]
    },
    {
      "cell_type": "code",
      "source": [],
      "metadata": {
        "id": "M7AkYWXFeRZ5"
      },
      "execution_count": null,
      "outputs": []
    }
  ]
}