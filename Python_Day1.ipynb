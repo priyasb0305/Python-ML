{
  "nbformat": 4,
  "nbformat_minor": 0,
  "metadata": {
    "colab": {
      "provenance": []
    },
    "kernelspec": {
      "name": "python3",
      "display_name": "Python 3"
    },
    "language_info": {
      "name": "python"
    }
  },
  "cells": [
    {
      "cell_type": "code",
      "source": [
        "    name='Priya'\n",
        "print(\"My name is\",name)"
      ],
      "metadata": {
        "colab": {
          "base_uri": "https://localhost:8080/"
        },
        "id": "T0cU5WZ7_Im9",
        "outputId": "098339f0-8430-45ca-b91d-44ba7e5ddf48"
      },
      "execution_count": null,
      "outputs": [
        {
          "output_type": "stream",
          "name": "stdout",
          "text": [
            "My name is Priya\n"
          ]
        }
      ]
    },
    {
      "cell_type": "markdown",
      "source": [
        "**Variables**"
      ],
      "metadata": {
        "id": "xPgAl6k9LqNk"
      }
    },
    {
      "cell_type": "code",
      "source": [
        "print(\"Hello, world!\")\n",
        "x=5\n",
        "y=10"
      ],
      "metadata": {
        "colab": {
          "base_uri": "https://localhost:8080/"
        },
        "id": "goSJ4YOIGDJA",
        "outputId": "9123f656-5acb-434a-d061-324a64b944df"
      },
      "execution_count": null,
      "outputs": [
        {
          "output_type": "stream",
          "name": "stdout",
          "text": [
            "Hello, world!\n"
          ]
        }
      ]
    },
    {
      "cell_type": "markdown",
      "source": [
        "**Indentation**"
      ],
      "metadata": {
        "id": "jfA2uqDgLjss"
      }
    },
    {
      "cell_type": "code",
      "source": [
        "if x>0:\n",
        "  print(\"x is positive\")\n",
        "  print(\"This is inside the if block\")"
      ],
      "metadata": {
        "colab": {
          "base_uri": "https://localhost:8080/"
        },
        "id": "Ise278xQIvcy",
        "outputId": "791e976f-fdb6-4726-e7c3-dbe19ab2c683"
      },
      "execution_count": null,
      "outputs": [
        {
          "output_type": "stream",
          "name": "stdout",
          "text": [
            "x is positive\n",
            "This is inside the if block\n"
          ]
        }
      ]
    },
    {
      "cell_type": "markdown",
      "source": [
        "**Numeric Types**"
      ],
      "metadata": {
        "id": "Zu2CXk7jJ8LS"
      }
    },
    {
      "cell_type": "code",
      "source": [
        "age=20\n",
        "height=5.4\n",
        "complex_num=3+4j"
      ],
      "metadata": {
        "id": "zZ8m1xKHJnWj"
      },
      "execution_count": null,
      "outputs": []
    },
    {
      "cell_type": "markdown",
      "source": [
        "**String Type**"
      ],
      "metadata": {
        "id": "Of62bPxEKXkj"
      }
    },
    {
      "cell_type": "code",
      "source": [
        "name=\"Alice\"\n",
        "message=\"Hello World\"\n",
        "multiline=\"\"\"This is a\n",
        "multiline string\"\"\""
      ],
      "metadata": {
        "id": "y0OFPZUhKaFC"
      },
      "execution_count": null,
      "outputs": []
    },
    {
      "cell_type": "markdown",
      "source": [
        "**Boolean Type**"
      ],
      "metadata": {
        "id": "frT3G5f9NNT1"
      }
    },
    {
      "cell_type": "code",
      "source": [
        "is_active=True\n",
        "is_finished=False"
      ],
      "metadata": {
        "id": "gbA-P4K5NTHd"
      },
      "execution_count": null,
      "outputs": []
    },
    {
      "cell_type": "markdown",
      "source": [
        "**Type Checking**"
      ],
      "metadata": {
        "id": "XmazIW6rNbv9"
      }
    },
    {
      "cell_type": "code",
      "source": [
        "print(type(age))\n",
        "print(type(height))\n",
        "print(type(name))\n",
        "type(age)"
      ],
      "metadata": {
        "colab": {
          "base_uri": "https://localhost:8080/"
        },
        "id": "fI0vjzJ6NhdV",
        "outputId": "019efd4d-9fc6-4de8-b285-204ace91947a"
      },
      "execution_count": null,
      "outputs": [
        {
          "output_type": "stream",
          "name": "stdout",
          "text": [
            "<class 'int'>\n",
            "<class 'float'>\n",
            "<class 'str'>\n"
          ]
        },
        {
          "output_type": "execute_result",
          "data": {
            "text/plain": [
              "int"
            ]
          },
          "metadata": {},
          "execution_count": 13
        }
      ]
    },
    {
      "cell_type": "markdown",
      "source": [
        "**Type Conversion**"
      ],
      "metadata": {
        "id": "LlcKfMWeOMho"
      }
    },
    {
      "cell_type": "code",
      "source": [
        "str_number=\"123\"\n",
        "int_number=int(str_number)\n",
        "float_number=float(str_number)\n",
        "\n",
        "print(f\"Original:{str_number} (type:{type(str_number)})\")\n",
        "print(f\"Integer:{int_number} (type:{type(int_number)})\")\n",
        "print(f\"Float:{float_number} (type:{type(float_number)})\")"
      ],
      "metadata": {
        "colab": {
          "base_uri": "https://localhost:8080/"
        },
        "id": "Bc5uCwsgORHl",
        "outputId": "1d7fde73-445b-40db-dbc5-02874c72e0d3"
      },
      "execution_count": null,
      "outputs": [
        {
          "output_type": "stream",
          "name": "stdout",
          "text": [
            "Original:123 (type:<class 'str'>)\n",
            "Integer:123 (type:<class 'int'>)\n",
            "Float:123.0 (type:<class 'float'>)\n"
          ]
        }
      ]
    },
    {
      "cell_type": "markdown",
      "source": [
        "**Create variables for personal information**"
      ],
      "metadata": {
        "id": "rzohkJW_iBsj"
      }
    },
    {
      "cell_type": "code",
      "source": [
        "first_name=\"Priya\"\n",
        "last_name=\"B\"\n",
        "age=20\n",
        "height=5.4\n",
        "year=3\n",
        "sem=5\n",
        "print(\"Name:\",first_name,last_name)\n",
        "print(\"Age:\",age)\n",
        "print(\"Height:\",height)\n",
        "print(\"BCA\",year,\"rd year\",sem,\"th sem\")"
      ],
      "metadata": {
        "colab": {
          "base_uri": "https://localhost:8080/"
        },
        "id": "G8MlmGjYiMER",
        "outputId": "3879e077-f6b5-420e-b97f-dfd6134da860"
      },
      "execution_count": null,
      "outputs": [
        {
          "output_type": "stream",
          "name": "stdout",
          "text": [
            "Name: Priya B\n",
            "Age: 20\n",
            "Height: 5.4\n",
            "BCA 3 rd year 5 th sem\n"
          ]
        }
      ]
    },
    {
      "cell_type": "markdown",
      "source": [
        "**Type conversion**"
      ],
      "metadata": {
        "id": "PNlgiZV1kM96"
      }
    },
    {
      "cell_type": "code",
      "source": [
        "age_str=str(age)\n",
        "height_int=int(height)\n",
        "print(f\"Age as string: {age_str}\")\n",
        "print(f\"Height as integer: {height_int}\")"
      ],
      "metadata": {
        "colab": {
          "base_uri": "https://localhost:8080/"
        },
        "id": "_yP0Qhq_kP-h",
        "outputId": "67f50e79-de81-4b58-ca4e-5b228ce439ff"
      },
      "execution_count": null,
      "outputs": [
        {
          "output_type": "stream",
          "name": "stdout",
          "text": [
            "Age as string: 20\n",
            "Height as integer: 5\n"
          ]
        }
      ]
    },
    {
      "cell_type": "markdown",
      "source": [
        "**Operators and Basic Operations**"
      ],
      "metadata": {
        "id": "AlYqb8GRlV8K"
      }
    },
    {
      "cell_type": "markdown",
      "source": [
        "Arithmatic Operations"
      ],
      "metadata": {
        "id": "399GPu_Kn5zz"
      }
    },
    {
      "cell_type": "code",
      "source": [
        "a=10\n",
        "b=7\n",
        "print(\"Addition:\",a,\"+\",b,\"=\",a+b)\n",
        "print(\"Subtraction:\",a,\"-\",b,\"=\",a-b)\n",
        "print(\"Multiplication:\",a,\"x\",b,\"=\",a*b)\n",
        "print(\"Division:\",a,\"/\",b,\"=\",a/b)\n",
        "print(\"Floor Division:\",a,\"//\",b,\"=\",a//b)\n",
        "print(\"Modulus:\",a,\"%\",b,\"=\",a%b)\n",
        "print(\"Exponention:\",a,\"**\",b,\"=\",a**b)"
      ],
      "metadata": {
        "colab": {
          "base_uri": "https://localhost:8080/"
        },
        "id": "_t7PSuexlfK6",
        "outputId": "a027903a-6ff1-4399-a13a-6eb82d86eaed"
      },
      "execution_count": null,
      "outputs": [
        {
          "output_type": "stream",
          "name": "stdout",
          "text": [
            "Addition: 10 + 7 = 17\n",
            "Subtraction: 10 - 7 = 3\n",
            "Multiplication: 10 x 7 = 70\n",
            "Division: 10 / 7 = 1.4285714285714286\n",
            "Floor Division: 10 // 7 = 1\n",
            "Modulus: 10 % 7 = 3\n",
            "Exponention: 10 ** 7 = 10000000\n"
          ]
        }
      ]
    },
    {
      "cell_type": "markdown",
      "source": [
        "Order of operations(PEMDAS)\n",
        "\n",
        "- P-Parantheses\n",
        "- E-Exponents\n",
        "- M-Multiplication\n",
        "- D-Division\n",
        "- A-Addition\n",
        "- S-Subtraction\n",
        "\n",
        "\n",
        "\n"
      ],
      "metadata": {
        "id": "OtKxIbOBoDSi"
      }
    },
    {
      "cell_type": "code",
      "source": [
        "result=2+3*7**4-8\n",
        "print(\"2+3*7**4-8=\",result)"
      ],
      "metadata": {
        "colab": {
          "base_uri": "https://localhost:8080/"
        },
        "id": "458MWN7Ao54z",
        "outputId": "260b8248-7906-471b-f07e-bd91ec9d4368"
      },
      "execution_count": null,
      "outputs": [
        {
          "output_type": "stream",
          "name": "stdout",
          "text": [
            "2+3*7**4-8= 7197\n"
          ]
        }
      ]
    },
    {
      "cell_type": "markdown",
      "source": [
        "Comparision Operators"
      ],
      "metadata": {
        "id": "ewJ-RMD-s3jV"
      }
    },
    {
      "cell_type": "code",
      "source": [
        "x=5\n",
        "y=10\n",
        "\n",
        "print(\"x==y:\",x==y)\n",
        "print(\"x!=y:\",x!=y)\n",
        "print(\"x<y:\",x<y)\n",
        "print(\"x<=y:\",x<=y)\n",
        "print(\"x>y:\",x>y)\n",
        "print(\"x>=y:\",x>=y)"
      ],
      "metadata": {
        "colab": {
          "base_uri": "https://localhost:8080/"
        },
        "id": "7eIrm-JdtFFi",
        "outputId": "e6c8aca5-2e60-490e-de64-e982b5fb4c06"
      },
      "execution_count": null,
      "outputs": [
        {
          "output_type": "stream",
          "name": "stdout",
          "text": [
            "x==y: False\n",
            "x!=y: True\n",
            "x<y: True\n",
            "x<=y: True\n",
            "x>y: False\n",
            "x>=y: False\n"
          ]
        }
      ]
    },
    {
      "cell_type": "markdown",
      "source": [
        "- String comparision"
      ],
      "metadata": {
        "id": "eYf_esSBt4NU"
      }
    },
    {
      "cell_type": "code",
      "source": [
        "name1=\"Priya\"\n",
        "name2=\"Riya\"\n",
        "print(f\"'{name1}'<'{name2}':{name1 < name2}\")"
      ],
      "metadata": {
        "colab": {
          "base_uri": "https://localhost:8080/"
        },
        "id": "5Sc2A7zat7Hj",
        "outputId": "efc3bfe3-3867-4152-fb5c-5872f2e4b32f"
      },
      "execution_count": null,
      "outputs": [
        {
          "output_type": "stream",
          "name": "stdout",
          "text": [
            "'Priya'<'Riya':True\n"
          ]
        }
      ]
    },
    {
      "cell_type": "markdown",
      "source": [
        "Logical Operators"
      ],
      "metadata": {
        "id": "BTnkFpoavMJE"
      }
    },
    {
      "cell_type": "code",
      "source": [
        "p=True\n",
        "q=False\n",
        "\n",
        "print(\"p and q:\",p and q)\n",
        "print(\"p or q:\",p or q)\n",
        "print(\"not q:\",not q)"
      ],
      "metadata": {
        "colab": {
          "base_uri": "https://localhost:8080/"
        },
        "id": "a1E61qAyvO-M",
        "outputId": "faa2ce5c-3070-4688-f0f2-27c9414e2ea5"
      },
      "execution_count": null,
      "outputs": [
        {
          "output_type": "stream",
          "name": "stdout",
          "text": [
            "p and q: False\n",
            "p or q: True\n",
            "not q: True\n"
          ]
        }
      ]
    },
    {
      "cell_type": "code",
      "source": [
        "# Practical Example\n",
        "age=19\n",
        "has_license=True\n",
        "can_drive=age>=18 and has_license\n",
        "print(\"Can drive:\",can_drive)\n"
      ],
      "metadata": {
        "colab": {
          "base_uri": "https://localhost:8080/"
        },
        "id": "LpDFVgQwwwhn",
        "outputId": "dc54cf62-713e-4892-99c8-2ad5632a29ee"
      },
      "execution_count": null,
      "outputs": [
        {
          "output_type": "stream",
          "name": "stdout",
          "text": [
            "Can drive: True\n"
          ]
        }
      ]
    },
    {
      "cell_type": "code",
      "source": [
        "#Multiple conditions\n",
        "score=80\n",
        "is_present=True\n",
        "can_pass=score>=80 or is_present\n",
        "print(\"Pass:\",can_pass)"
      ],
      "metadata": {
        "colab": {
          "base_uri": "https://localhost:8080/"
        },
        "id": "dMU-zBgCxLdF",
        "outputId": "a140cc97-983c-4b89-8ce9-bcdb53806980"
      },
      "execution_count": null,
      "outputs": [
        {
          "output_type": "stream",
          "name": "stdout",
          "text": [
            "Pass: True\n"
          ]
        }
      ]
    },
    {
      "cell_type": "code",
      "source": [
        "# Personal information\n",
        "age=25\n",
        "annual_income=50000\n",
        "credit_score=720\n",
        "has_collateral=True"
      ],
      "metadata": {
        "id": "3BsyN3CI3H8f"
      },
      "execution_count": null,
      "outputs": []
    },
    {
      "cell_type": "code",
      "source": [
        "#Loan Criteria\n",
        "min_age=18\n",
        "min_income=30000\n",
        "min_credit_score=650\n",
        "is_eligible=age>=min_age or credit_scope>=min_credit and annual_income>=min_income\n",
        "print(\"Eligible for loan:\",is_eligible)"
      ],
      "metadata": {
        "colab": {
          "base_uri": "https://localhost:8080/"
        },
        "id": "iaqIZql_3fcO",
        "outputId": "baa922f9-df6a-4c18-d34a-97c64eb258b0"
      },
      "execution_count": null,
      "outputs": [
        {
          "output_type": "stream",
          "name": "stdout",
          "text": [
            "Eligible for loan: True\n"
          ]
        }
      ]
    },
    {
      "cell_type": "code",
      "source": [
        "#Check qulifications\n",
        "age_qualified=age>=min_age\n",
        "income_qualified=annual_income>=min_income\n",
        "credit_qualified=credit_score>=min_credit_score\n",
        "overall_qualified=age_qualified and income_qualified and credit_qualified\n",
        "print(overall_qualified)"
      ],
      "metadata": {
        "colab": {
          "base_uri": "https://localhost:8080/"
        },
        "id": "mTVNZL584D24",
        "outputId": "971f12fe-aa15-4e89-f091-bc96b99c3e2f"
      },
      "execution_count": null,
      "outputs": [
        {
          "output_type": "stream",
          "name": "stdout",
          "text": [
            "True\n"
          ]
        }
      ]
    },
    {
      "cell_type": "markdown",
      "source": [
        "**Data Structures**"
      ],
      "metadata": {
        "id": "llSKGdCo_BY3"
      }
    },
    {
      "cell_type": "markdown",
      "source": [
        "Lists"
      ],
      "metadata": {
        "id": "oyUo7yQV_GFv"
      }
    },
    {
      "cell_type": "markdown",
      "source": [
        "- Creating Lists"
      ],
      "metadata": {
        "id": "Bvz6QAk9_JMY"
      }
    },
    {
      "cell_type": "code",
      "source": [
        "fruits=[\"apple\",\"banana\",\"orange\",\"grape\"]\n",
        "numbers=[10,20,30,40,50]\n",
        "mixed_data=[1,\"Hello\",3.14,True]"
      ],
      "metadata": {
        "id": "Seu8dxPE_FMP"
      },
      "execution_count": null,
      "outputs": []
    },
    {
      "cell_type": "markdown",
      "source": [
        "- List Indexing(0-based)"
      ],
      "metadata": {
        "id": "wTRfTQlc_kho"
      }
    },
    {
      "cell_type": "code",
      "source": [
        "print(fruits[0])\n",
        "print(fruits[-1])\n",
        "print(fruits[-2])"
      ],
      "metadata": {
        "colab": {
          "base_uri": "https://localhost:8080/"
        },
        "id": "v7Zqsgb68kHk",
        "outputId": "9349b58a-3899-43e2-b558-93624eb459f4"
      },
      "execution_count": null,
      "outputs": [
        {
          "output_type": "stream",
          "name": "stdout",
          "text": [
            "apple\n",
            "grape\n",
            "orange\n"
          ]
        }
      ]
    },
    {
      "cell_type": "markdown",
      "source": [
        "- List slicing"
      ],
      "metadata": {
        "id": "KM6pC2dt8bBm"
      }
    },
    {
      "cell_type": "code",
      "source": [
        "print(f\"first 2 fruits:{fruits[0:2]}\")\n",
        "print(f\"last 2 fruits:{fruits[-2:]}\")\n",
        "print(f\"all fruits:{fruits[1:]}\")"
      ],
      "metadata": {
        "colab": {
          "base_uri": "https://localhost:8080/"
        },
        "id": "SWBA9JhcAohP",
        "outputId": "5fb2d17d-a565-4bcc-976f-fc3113fbe001"
      },
      "execution_count": null,
      "outputs": [
        {
          "output_type": "stream",
          "name": "stdout",
          "text": [
            "first 2 fruits:['apple', 'banana']\n",
            "last 2 fruits:['orange', 'grape']\n",
            "all fruits:['banana', 'orange', 'grape']\n"
          ]
        }
      ]
    },
    {
      "cell_type": "markdown",
      "source": [
        "- List Methods"
      ],
      "metadata": {
        "id": "Bap6XHzQCHPg"
      }
    },
    {
      "cell_type": "code",
      "source": [
        "fruits.append(\"kiwi\")\n",
        "fruits.insert(1,\"strawberry\")\n",
        "removed=fruits.pop()\n",
        "print(f\"Updated list:{fruits}\")\n",
        "print(f\"Removed:{removed}\")"
      ],
      "metadata": {
        "colab": {
          "base_uri": "https://localhost:8080/"
        },
        "id": "j3iYxQefCJl3",
        "outputId": "841676a7-f32c-48ea-bbe1-68f51acb834b"
      },
      "execution_count": null,
      "outputs": [
        {
          "output_type": "stream",
          "name": "stdout",
          "text": [
            "Updated list:['apple', 'strawberry', 'banana', 'orange', 'grape']\n",
            "Removed:kiwi\n"
          ]
        }
      ]
    },
    {
      "cell_type": "markdown",
      "source": [
        "- List operations"
      ],
      "metadata": {
        "id": "lgfpdWmlCnv5"
      }
    },
    {
      "cell_type": "code",
      "source": [
        "print(f\"length:{len(fruits)}\")\n",
        "print(f\"contains 'apple':{'apple' in fruits}\")\n",
        "print(f\"Index of 'banana':{fruits.index('banana')}\")"
      ],
      "metadata": {
        "colab": {
          "base_uri": "https://localhost:8080/"
        },
        "id": "6k5YjBCxCpnX",
        "outputId": "cac9802f-7c7c-45cb-cf72-22568fa05a3e"
      },
      "execution_count": null,
      "outputs": [
        {
          "output_type": "stream",
          "name": "stdout",
          "text": [
            "length:5\n",
            "contains 'apple':True\n",
            "Index of 'banana':2\n"
          ]
        }
      ]
    },
    {
      "cell_type": "markdown",
      "source": [
        "**Tuple**"
      ],
      "metadata": {
        "id": "0jmHq0DnDSYB"
      }
    },
    {
      "cell_type": "code",
      "source": [
        "coordinates=(10,20)\n",
        "rgb_color=(255,128,0)\n",
        "person_info=(\"Alice\",25,\"Engineer\",True)"
      ],
      "metadata": {
        "id": "1xsY1RodDVtH"
      },
      "execution_count": null,
      "outputs": []
    },
    {
      "cell_type": "markdown",
      "source": [
        "- Tuple unpacking"
      ],
      "metadata": {
        "id": "3RdUEb2nE4op"
      }
    },
    {
      "cell_type": "code",
      "source": [
        "x,y=coordinates\n",
        "print(f\"X:{x},Y:{y}\")"
      ],
      "metadata": {
        "colab": {
          "base_uri": "https://localhost:8080/"
        },
        "id": "vSd23yYCE9HA",
        "outputId": "b02e174a-eabc-4f34-cabd-80e4ac9416cf"
      },
      "execution_count": null,
      "outputs": [
        {
          "output_type": "stream",
          "name": "stdout",
          "text": [
            "X:10,Y:20\n"
          ]
        }
      ]
    },
    {
      "cell_type": "markdown",
      "source": [
        "- Tuple Methods"
      ],
      "metadata": {
        "id": "TNDJeIJCFJfJ"
      }
    },
    {
      "cell_type": "code",
      "source": [
        "print(f\"Count of 25:{person_info.count(25)}\")\n",
        "print(f\"Index of 'Engineer':{person_info.index('Engineer')}\")"
      ],
      "metadata": {
        "colab": {
          "base_uri": "https://localhost:8080/"
        },
        "id": "B5E1dcx_FMaI",
        "outputId": "cd26d8f8-dd80-49a7-f59e-d7c16190a27d"
      },
      "execution_count": null,
      "outputs": [
        {
          "output_type": "stream",
          "name": "stdout",
          "text": [
            "Count of 25:1\n",
            "Index of 'Engineer':2\n"
          ]
        }
      ]
    }
  ]
}